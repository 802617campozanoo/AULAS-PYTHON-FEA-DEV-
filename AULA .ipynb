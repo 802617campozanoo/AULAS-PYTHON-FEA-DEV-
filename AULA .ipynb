{
 "cells": [
  {
   "cell_type": "markdown",
   "id": "fdf1252a",
   "metadata": {},
   "source": [
    "### markdown serve para deixar o código em formato de texto, como está abaixo\n"
   ]
  },
  {
   "cell_type": "code",
   "execution_count": null,
   "id": "fa9354af",
   "metadata": {},
   "outputs": [],
   "source": []
  },
  {
   "cell_type": "markdown",
   "id": "cc1cd1f2",
   "metadata": {},
   "source": [
    "# print serve para replicar o que foi escrito/rodar o código\n",
    "\n",
    "print (\"fala,dev,tudo bem?\")"
   ]
  },
  {
   "cell_type": "code",
   "execution_count": 36,
   "id": "c6e3931f",
   "metadata": {},
   "outputs": [
    {
     "name": "stdout",
     "output_type": "stream",
     "text": [
      "bem vindo a aula 2\n"
     ]
    }
   ],
   "source": [
    "## shift + enter cria outra celula após rodar essa \n",
    "\n",
    "print(\"bem vindo a aula 2\")\n"
   ]
  },
  {
   "cell_type": "code",
   "execution_count": 39,
   "id": "bd7c25ac",
   "metadata": {},
   "outputs": [
    {
     "ename": "SyntaxError",
     "evalue": "invalid syntax (1349424136.py, line 2)",
     "output_type": "error",
     "traceback": [
      "\u001b[1;36m  Cell \u001b[1;32mIn[39], line 2\u001b[1;36m\u001b[0m\n\u001b[1;33m    random.randint?   ## serve para descobrir o que é a função(nessa biblioteca)\u001b[0m\n\u001b[1;37m                  ^\u001b[0m\n\u001b[1;31mSyntaxError\u001b[0m\u001b[1;31m:\u001b[0m invalid syntax\n"
     ]
    }
   ],
   "source": [
    "import random\n",
    "random.randint?   ## serve para descobrir o que é a função(nessa biblioteca)\n"
   ]
  },
  {
   "cell_type": "code",
   "execution_count": 40,
   "id": "66260006",
   "metadata": {},
   "outputs": [],
   "source": [
    "## como fazer códigos com mudança deles,seguindo as intruções e mudança de códigos \n",
    "num=3"
   ]
  },
  {
   "cell_type": "code",
   "execution_count": 31,
   "id": "90de0bfa",
   "metadata": {},
   "outputs": [],
   "source": [
    "num=num+2"
   ]
  },
  {
   "cell_type": "code",
   "execution_count": 32,
   "id": "4aef149a",
   "metadata": {},
   "outputs": [],
   "source": [
    "num=num*3"
   ]
  },
  {
   "cell_type": "code",
   "execution_count": 33,
   "id": "4a6ca32d",
   "metadata": {},
   "outputs": [
    {
     "name": "stdout",
     "output_type": "stream",
     "text": [
      "15\n"
     ]
    }
   ],
   "source": [
    "print(num)"
   ]
  },
  {
   "cell_type": "code",
   "execution_count": null,
   "id": "738a264d",
   "metadata": {},
   "outputs": [],
   "source": []
  }
 ],
 "metadata": {
  "kernelspec": {
   "display_name": "Python 3 (ipykernel)",
   "language": "python",
   "name": "python3"
  },
  "language_info": {
   "codemirror_mode": {
    "name": "ipython",
    "version": 3
   },
   "file_extension": ".py",
   "mimetype": "text/x-python",
   "name": "python",
   "nbconvert_exporter": "python",
   "pygments_lexer": "ipython3",
   "version": "3.11.5"
  }
 },
 "nbformat": 4,
 "nbformat_minor": 5
}
